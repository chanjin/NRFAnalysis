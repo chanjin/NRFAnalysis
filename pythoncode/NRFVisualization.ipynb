{
 "cells": [
  {
   "cell_type": "code",
   "execution_count": null,
   "metadata": {
    "collapsed": true
   },
   "outputs": [],
   "source": [
    "dir = \"/Users/chanjinpark/GitHub/NRFAnalysis/\"\n",
    "docs = sc.textFile(dir + \"data/docs\")\n",
    "corpus = sc.textFile(dir + \"data/corpus\").map(lambda x: x.split(','))\n",
    "meta = {}\n",
    "with  open(dir + \"data/meta.txt\") as f:\n",
    "    for l in f:\n",
    "        id = l[0:l.find('-')]\n",
    "        m = l[l.find('-')+1:]\n",
    "        area = m.split(':::')[1].split(',')\n",
    "        meta[id] = area[0:2]\n",
    "\n",
    "meta['2013R1A1A1004576'][1]\n",
    "\n",
    "crbindex = {}\n",
    "for i, v in enumerate(sorted(set(map(lambda m: m[1], meta.values())))) :\n",
    "    crbindex[v] = float(i)\n",
    "\n",
    "from pyspark.mllib.feature import HashingTF, IDF\n",
    "hashingTF = HashingTF()\n",
    "tf = hashingTF.transform(corpus)\n",
    "tf.cache()\n",
    "idf = IDF(minDocFreq=2).fit(tf)\n",
    "tfidf = idf.transform(tf)\n",
    "\n",
    "from pyspark.mllib.linalg import SparseVector, DenseVector\n",
    "from pyspark.mllib.regression import LabeledPoint\n",
    "\n",
    "data = docs.zip(tfidf).map(lambda d: LabeledPoint(crbindex[meta[d[0]][1]],d[1])) # DenseVector(d[1].toArray)))\n",
    "training, test = data.randomSplit([0.7, 0.3])\n",
    "\n",
    "from pyspark.mllib.classification import NaiveBayes, NaiveBayesModel\n",
    "from pyspark.mllib.util import MLUtils\n",
    "from pyspark.mllib.evaluation import MulticlassMetrics\n",
    "\n",
    "model = NaiveBayes.train(training, 1.0)\n",
    "predictionAndLabel = test.map(lambda p: (model.predict(p.features), p.label))\n",
    "\n",
    "\n",
    "metrics = MulticlassMetrics(predictionAndLabels)\n",
    "\n",
    "precision = metrics.precision()\n",
    "recall = metrics.recall()\n",
    "f1Score = metrics.fMeasure()\n",
    "print(\"Summary Stats\")\n",
    "print(\"Precision = %s\" % precision)\n",
    "print(\"Recall = %s\" % recall)\n",
    "print(\"F1 Score = %s\" % f1Score)\n",
    "\n",
    "# Statistics by class\n",
    "labels = data.map(lambda lp: lp.label).distinct().collect()\n",
    "\n",
    "for label in sorted(labels):\n",
    "    print(\"Class %s precision = %s\" % (label, metrics.precision(label)))\n",
    "    print(\"Class %s recall = %s\" % (label, metrics.recall(label)))\n",
    "    print(\"Class %s F1 Measure = %s\" % (label, metrics.fMeasure(label, beta=1.0)))\n",
    "\n",
    "# Weighted stats\n",
    "print(\"Weighted recall = %s\" % metrics.weightedRecall)\n",
    "print(\"Weighted precision = %s\" % metrics.weightedPrecision)\n",
    "print(\"Weighted F(1) Score = %s\" % metrics.weightedFMeasure())\n",
    "print(\"Weighted F(0.5) Score = %s\" % metrics.weightedFMeasure(beta=0.5))\n",
    "print(\"Weighted false positive rate = %s\" % metrics.weightedFalsePositiveRate)"
   ]
  },
  {
   "cell_type": "code",
   "execution_count": null,
   "metadata": {},
   "outputs": [],
   "source": [
    ""
   ]
  }
 ],
 "metadata": {
  "kernelspec": {
   "display_name": "Python 2",
   "language": "python",
   "name": "python2"
  },
  "language_info": {
   "codemirror_mode": {
    "name": "ipython",
    "version": 2.0
   },
   "file_extension": ".py",
   "mimetype": "text/x-python",
   "name": "python",
   "nbconvert_exporter": "python",
   "pygments_lexer": "ipython2",
   "version": "2.7.6"
  }
 },
 "nbformat": 4,
 "nbformat_minor": 0
}