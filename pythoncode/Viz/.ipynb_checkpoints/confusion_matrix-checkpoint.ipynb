{
 "cells": [
  {
   "cell_type": "code",
   "execution_count": 1,
   "metadata": {
    "collapsed": false
   },
   "outputs": [
    {
     "data": {
      "text/plain": [
       "<bound method DataFrame.info of                     docid  prediction  label\n",
       "0        2013R1A1A1005147        22.0   22.0\n",
       "1        2013R1A1A1005486        15.0   15.0\n",
       "2        2013R1A1A1005731        23.0   23.0\n",
       "3        2013R1A1A1006062         6.0   17.0\n",
       "4        2013R1A1A1006606         3.0    4.0\n",
       "5        2013R1A1A1006701         6.0    6.0\n",
       "6        2013R1A1A1007068         6.0    6.0\n",
       "7        2013R1A1A1007084         6.0    6.0\n",
       "8        2013R1A1A1007475        10.0   17.0\n",
       "9        2013R1A1A1007541         1.0    1.0\n",
       "10       2013R1A1A1007615         5.0   15.0\n",
       "11       2013R1A1A1007658         2.0   15.0\n",
       "12       2013R1A1A1007706         5.0   15.0\n",
       "13       2013R1A1A1008098        23.0   23.0\n",
       "14       2013R1A1A1008154        12.0   15.0\n",
       "15       2013R1A1A1008228        26.0    4.0\n",
       "16       2013R1A1A1008431        15.0   24.0\n",
       "17       2013R1A1A1008686         0.0    0.0\n",
       "18       2013R1A1A1008910         3.0    4.0\n",
       "19       2013R1A1A1009085         8.0    8.0\n",
       "20       2013R1A1A1009259        17.0   17.0\n",
       "21       2013R1A1A1009437         3.0   15.0\n",
       "22       2013R1A1A1009571         7.0    7.0\n",
       "23       2013R1A1A1009630        22.0   22.0\n",
       "24       2013R1A1A1009816         2.0    9.0\n",
       "25       2013R1A1A1009840        10.0   10.0\n",
       "26       2013R1A1A1010004         1.0    1.0\n",
       "27       2013R1A1A1010171        11.0   11.0\n",
       "28       2013R1A1A1010185         8.0    8.0\n",
       "29       2013R1A1A1010268        15.0   15.0\n",
       "...                   ...         ...    ...\n",
       "2369  2015R1D1A3A01020444        10.0   10.0\n",
       "2370  2015R1D1A3A01020450         3.0    3.0\n",
       "2371  2015R1D1A3A01020539        22.0   22.0\n",
       "2372  2015R1D1A3A01020625        15.0    5.0\n",
       "2373  2015R1D1A3A01020635         8.0    5.0\n",
       "2374  2015R1D1A3A01020651         3.0   12.0\n",
       "2375  2015R1D1A3A01020679         5.0    4.0\n",
       "2376  2015R1D1A3A01020750         1.0    9.0\n",
       "2377  2015R1D1A3A01020817        22.0   17.0\n",
       "2378  2015R1D1A3A03015653        15.0   14.0\n",
       "2379  2015R1D1A3A03020569        10.0   17.0\n",
       "2380  2015R1D1A4A01016293         8.0    4.0\n",
       "2381  2015R1D1A4A01016406         5.0    5.0\n",
       "2382  2015R1D1A4A01016640        15.0    5.0\n",
       "2383  2015R1D1A4A01016662         5.0    8.0\n",
       "2384  2015R1D1A4A01017672         5.0    3.0\n",
       "2385  2015R1D1A4A01018668        22.0   18.0\n",
       "2386  2015R1D1A4A01019028        15.0    5.0\n",
       "2387  2015R1D1A4A01019211         3.0    3.0\n",
       "2388  2015R1D1A4A01019610         7.0    7.0\n",
       "2389  2015R1D1A4A01019646         8.0   12.0\n",
       "2390  2015R1D1A4A01019759         5.0    8.0\n",
       "2391  2015R1D1A4A01019835         1.0    1.0\n",
       "2392  2015R1D1A4A01019937        20.0   20.0\n",
       "2393  2015R1D1A4A01019960         6.0    6.0\n",
       "2394  2015R1D1A4A01020104        15.0    8.0\n",
       "2395  2015R1D1A4A01020317        26.0   26.0\n",
       "2396  2015R1D1A4A01020352        10.0   10.0\n",
       "2397  2015R1D1A4A01020665        22.0   22.0\n",
       "2398  2015R1D1A4A01020961         6.0    6.0\n",
       "\n",
       "[2399 rows x 3 columns]>"
      ]
     },
     "execution_count": 1,
     "metadata": {},
     "output_type": "execute_result"
    }
   ],
   "source": [
    "print(__doc__)\n",
    "\n",
    "import numpy as np\n",
    "import matplotlib.pyplot as plt\n",
    "\n",
    "import pandas as pd\n",
    "\n",
    "from sklearn.preprocessing import label_binarize\n",
    "from sklearn.metrics import confusion_matrix\n",
    "\n",
    "%matplotlib inline\n",
    "\n",
    "dir = '/Users/chanjinpark/GitHub/NRFAnalysis/'\n",
    "df = pd.read_csv(dir + 'data/predlabel.txt')\n",
    "df.columns = ['docid', 'prediction', 'label']\n",
    "df.info\n"
   ]
  },
  {
   "cell_type": "code",
   "execution_count": null,
   "metadata": {
    "collapsed": true
   },
   "outputs": [],
   "source": []
  }
 ],
 "metadata": {
  "kernelspec": {
   "display_name": "Python 2",
   "language": "python",
   "name": "python2"
  },
  "language_info": {
   "codemirror_mode": {
    "name": "ipython",
    "version": 2
   },
   "file_extension": ".py",
   "mimetype": "text/x-python",
   "name": "python",
   "nbconvert_exporter": "python",
   "pygments_lexer": "ipython2",
   "version": "2.7.12"
  }
 },
 "nbformat": 4,
 "nbformat_minor": 0
}
