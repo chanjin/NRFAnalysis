{
 "cells": [
  {
   "cell_type": "code",
   "execution_count": 49,
   "metadata": {
    "collapsed": true
   },
   "outputs": [
    {
     "name": "stdout",
     "output_type": "stream",
     "text": [
      "우리\n제의\n104055\n2"
     ]
    },
    {
     "name": "stdout",
     "output_type": "stream",
     "text": [
      "\n"
     ]
    }
   ],
   "source": [
    "import numpy as np\n",
    "import matplotlib.pyplot as plt\n",
    "import pandas as pd\n",
    "\n",
    "%matplotlib inline\n",
    "\n",
    "def getData(dn): \n",
    "    corpus = []\n",
    "    with open(dir + \"corpus.csv\") as f:\n",
    "        i = 0\n",
    "        for line in f:\n",
    "            corpus.append(map(lambda s: s.rstrip(), line.split(',')))\n",
    "            \n",
    "    docs = []\n",
    "    with open(dir + 'docs.txt') as f:\n",
    "        docs = f.readline().split(',')\n",
    "    \n",
    "    vocab = []\n",
    "    with open(dir + 'vocab.txt') as f:\n",
    "        vocab = f.readline().split(',')\n",
    "        \n",
    "    return docs, corpus, vocab\n",
    "    \n",
    "dir = '/Users/chanjinpark/GitHub/NRFAnalysis/data/temp/'\n",
    "docs, corpus, vocab = getData(dir)\n",
    "print corpus[0][0]\n",
    "print vocab[2]\n",
    "print len(vocab)\n",
    "\n",
    "vocabid = dict(zip(vocab, list([i for i in range(len(vocab))])))\n",
    "\n",
    "def getDocTermArray(doc):\n",
    "    dtarr = [0 for x in range(len(vocab))]\n",
    "    for term in doc:\n",
    "        dtarr[vocabid[term]] = dtarr[vocabid[term]] + 1\n",
    "    return dtarr\n",
    "\n",
    "print vocabid[vocab[2]]\n",
    "    \n",
    "corpusarr = map(lambda x: getDocTermArray(x), corpus)"
   ]
  },
  {
   "cell_type": "code",
   "execution_count": 54,
   "metadata": {},
   "outputs": [
    {
     "name": "stdout",
     "output_type": "stream",
     "text": [
      "(170, 262)\n"
     ]
    }
   ],
   "source": [
    "from sklearn.feature_extraction.text import CountVectorizer\n",
    "\n",
    "len(corpusarr)\n",
    "\n",
    "def countUniqueTerms(arr):\n",
    "    cnt = 0\n",
    "    for e in arr:\n",
    "        if ( e != 0 ):\n",
    "            cnt = cnt + 1\n",
    "    return cnt\n",
    "\n",
    "def countTerms(arr):\n",
    "    cnt = 0\n",
    "    for e in arr:\n",
    "        if ( e > 0): cnt = cnt + e\n",
    "    return cnt\n",
    "\n",
    "uniqueTerms = map(lambda arr: (countUniqueTerms(arr), countTerms(arr)), corpusarr)\n",
    "print uniqueTerms[0]"
   ]
  },
  {
   "cell_type": "code",
   "execution_count": 56,
   "metadata": {},
   "outputs": [
    {
     "name": "stdout",
     "output_type": "stream",
     "text": [
      "[(170, 262), (112, 251), (105, 234), (144, 346), (233, 450)]\n"
     ]
    }
   ],
   "source": [
    "from sklearn.feature_extraction.text import TfidfTransformer\n",
    "transformer = TfidfTransformer()\n",
    "tfidf = transformer.fit_transform(corpusarr)"
   ]
  },
  {
   "cell_type": "code",
   "execution_count": null,
   "metadata": {},
   "outputs": [],
   "source": [
    ""
   ]
  }
 ],
 "metadata": {
  "kernelspec": {
   "display_name": "Python 2",
   "language": "python",
   "name": "python2"
  },
  "language_info": {
   "codemirror_mode": {
    "name": "ipython",
    "version": 2.0
   },
   "file_extension": ".py",
   "mimetype": "text/x-python",
   "name": "python",
   "nbconvert_exporter": "python",
   "pygments_lexer": "ipython2",
   "version": "2.7.6"
  }
 },
 "nbformat": 4,
 "nbformat_minor": 0
}