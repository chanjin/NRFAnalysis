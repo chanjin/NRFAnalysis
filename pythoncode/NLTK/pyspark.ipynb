{
 "cells": [
  {
   "cell_type": "code",
   "execution_count": null,
   "metadata": {
    "collapsed": true
   },
   "outputs": [],
   "source": [
    "from pyspark import SparkConf\n",
    "from pyspark import SparkContext\n",
    "\n",
    "conf = SparkConf()\n",
    "conf.setMaster('yarn-client')\n",
    "conf.setAppName('spark-nltk')\n",
    "sc = SparkContext(conf=conf)\n",
    "\n",
    "data = sc.textFile('file:///usr/share/nltk_data/corpora/state_union/1972-Nixon.txt')\n",
    "\n",
    "def word_tokenize(x):\n",
    "    import nltk\n",
    "    return nltk.word_tokenize(x)\n",
    "\n",
    "def pos_tag(x):\n",
    "    import nltk\n",
    "    return nltk.pos_tag([x])\n",
    "\n",
    "words = data.flatMap(word_tokenize)\n",
    "print words.take(10)\n",
    "\n",
    "pos_word = words.map(pos_tag)\n",
    "print pos_word.take(5)"
   ]
  }
 ],
 "metadata": {
  "kernelspec": {
   "display_name": "Python 2",
   "language": "python",
   "name": "python2"
  },
  "language_info": {
   "codemirror_mode": {
    "name": "ipython",
    "version": 2.0
   },
   "file_extension": ".py",
   "mimetype": "text/x-python",
   "name": "python",
   "nbconvert_exporter": "python",
   "pygments_lexer": "ipython2",
   "version": "2.7.6"
  }
 },
 "nbformat": 4,
 "nbformat_minor": 0
}