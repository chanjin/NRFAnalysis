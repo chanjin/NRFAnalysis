{
 "cells": [
  {
   "cell_type": "code",
   "execution_count": null,
   "metadata": {
    "collapsed": true
   },
   "outputs": [],
   "source": [
    "import os\n",
    "import sys\n",
    "\n",
    "print (\"start\")\n",
    "os.environ['SPARK_HOME'] = \"/Users/chanjinpark/dev/spark-1.6.2/\"\n",
    "sys.path.append(\"/Users/chanjinpark/dev/spark-1.6.2/python\")\n",
    "\n",
    "try:\n",
    "    from pyspark import SparkContext\n",
    "    from pyspark import SparkConf\n",
    "except ImportError as e:\n",
    "    print(\"Can't import pyspark \", e)\n",
    "    sys.exit(1)"
   ]
  },
  {
   "cell_type": "code",
   "execution_count": null,
   "metadata": {},
   "outputs": [],
   "source": [
    "import matplotlib.pyplot as plt\n",
    "sc = SparkContext('local')\n",
    "workspace ='/Users/chanjinpark/data/NRF2015/'\n",
    "contdir = workspace + 'content-sample/'\n",
    "metafile = workspace + 'NRF2015Meta.csv'\n",
    "contfile = workspace + 'contents.csv/part*'\n",
    "sc.textFile(contfile).take(5)"
   ]
  },
  {
   "cell_type": "code",
   "execution_count": null,
   "metadata": {},
   "outputs": [],
   "source": [
    ""
   ]
  }
 ],
 "metadata": {
  "kernelspec": {
   "display_name": "Python 2",
   "language": "python",
   "name": "python2"
  },
  "language_info": {
   "codemirror_mode": {
    "name": "ipython",
    "version": 2.0
   },
   "file_extension": ".py",
   "mimetype": "text/x-python",
   "name": "python",
   "nbconvert_exporter": "python",
   "pygments_lexer": "ipython2",
   "version": "2.7.6"
  }
 },
 "nbformat": 4,
 "nbformat_minor": 0
}